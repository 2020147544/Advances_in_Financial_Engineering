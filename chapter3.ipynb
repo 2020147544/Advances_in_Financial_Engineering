{
  "nbformat": 4,
  "nbformat_minor": 0,
  "metadata": {
    "colab": {
      "provenance": [],
      "authorship_tag": "ABX9TyPpVbtw4DS5u0bGNxKu0bg+",
      "include_colab_link": true
    },
    "kernelspec": {
      "name": "python3",
      "display_name": "Python 3"
    },
    "language_info": {
      "name": "python"
    }
  },
  "cells": [
    {
      "cell_type": "markdown",
      "metadata": {
        "id": "view-in-github",
        "colab_type": "text"
      },
      "source": [
        "<a href=\"https://colab.research.google.com/github/2020147544/Advances_in_Financial_Engineering/blob/main/chapter3.ipynb\" target=\"_parent\"><img src=\"https://colab.research.google.com/assets/colab-badge.svg\" alt=\"Open In Colab\"/></a>"
      ]
    },
    {
      "cell_type": "markdown",
      "source": [
        "# Labeling"
      ],
      "metadata": {
        "id": "bSv9K6r0nuXH"
      }
    },
    {
      "cell_type": "code",
      "source": [
        "import numpy as np\n",
        "import pandas as pd\n",
        "import matplotlib.pyplot as plt\n",
        "\n",
        "%matplotlib inline\n",
        "\n",
        "p = print"
      ],
      "metadata": {
        "id": "D4b0TuNlo-MZ"
      },
      "execution_count": null,
      "outputs": []
    },
    {
      "cell_type": "code",
      "execution_count": null,
      "metadata": {
        "id": "vciALHZJXB6F"
      },
      "outputs": [],
      "source": [
        "def getDailyVol(close,span0=100):\n",
        "    '''\n",
        "    daily vol, reindexed to close\n",
        "    - used to set default profit taking and stop-loss limits\n",
        "    '''\n",
        "    df0=close.index.searchsorted(close.index-pd.Timedelta(days=1))\n",
        "    df0=df0[df0>0]\n",
        "    df0=pd.Series(close.index[df0–1], index=close.index[close.shape[0]-df0.shape[0]:])\n",
        "    df0=close.loc[df0.index]/close.loc[df0.values].values-1 # daily returns\n",
        "    df0=df0.ewm(span=span0).std()\n",
        "    return df0\n"
      ]
    },
    {
      "cell_type": "markdown",
      "source": [
        "## Triple-Barrier Method"
      ],
      "metadata": {
        "id": "DpuYHE00oki-"
      }
    },
    {
      "cell_type": "code",
      "source": [
        "def applyPtSlOnT1(close,events,ptSl,molecule):\n",
        "    \n",
        "    '''\n",
        "    Tripple-barrier labeling method\n",
        "    ` Apply stop loss/profit taking, if it takes place before t1 (end of event)\n",
        "\n",
        "    Input: \n",
        "    ` events: \n",
        "      — t1: the timestamp of vertical barrier\n",
        "      — trgt: the unit width of the horizontal barriers, expressed in terms of absolute returns\n",
        "    ` ptsl: a list of two non-negative float values\n",
        "      - ptsl[0]: the factor multiplies trgt to set the width of the upper barrier\n",
        "      - ptsl[1]: the factor that multiplies trgt to set the width of the lower barrier\n",
        "    ` molecule: a list with the subset of event indices \n",
        "\n",
        "    Output: a Dataframe containing the timestamps at which each barrier was touched, [pt, s1, t1]\n",
        "    ` 0 (inactive barrier) or 1 (active barrier)\n",
        "\n",
        "    '''\n",
        "    events_=events.loc[molecule]\n",
        "    out=events_[['t1']].copy(deep=True)46 LABELING\n",
        "    if ptSl[0]>0:pt=ptSl[0]*events_['trgt']\n",
        "    else:pt=pd.Series(index=events.index) # NaNs\n",
        "    if ptSl[1]>0:sl=-ptSl[1]*events_['trgt']\n",
        "    else:sl=pd.Series(index=events.index) # NaNs\n",
        "    for loc,t1 in events_['t1'].fillna(close.index[-1]).iteritems():\n",
        "        df0=close[loc:t1] # path prices\n",
        "        df0=(df0/close[loc]-1)*events_.at[loc,'side'] # path returns\n",
        "        out.loc[loc,'sl']=df0[df0<sl[loc]].index.min() # earliest stop loss.\n",
        "        out.loc[loc,'pt']=df0[df0>pt[loc]].index.min() # earliest profit taking.\n",
        "    return out\n",
        "\n",
        "\n",
        "\n",
        "def getEvents(close,tEvents,ptSl,trgt,minRet,numThreads,t1=False,side=None):\n",
        "    '''\n",
        "    Getting the time of first touch\n",
        "     \n",
        "    Input:\n",
        "    ` tEvents: the pandas timeindex containing the timestamps that will seed every triple barrier \n",
        "      - the timestamps selected by the sampling procedures \n",
        "    ` minRet: the minimum target return required for running a triple barrier search\n",
        "    ` numThreads: the number of threads concurrently used by the function  \n",
        "\n",
        "    Output: \n",
        "    ` events: a Dataframe\n",
        "      - events.index: event's starttime\n",
        "      - events['t1']: event's endtime\n",
        "      - events['trgt']: event's target\n",
        "      - events['side'] (optional): the algo's position side\n",
        "    '''\n",
        "    #1) get target\n",
        "    trgt=trgt.loc[tEvents]\n",
        "    trgt=trgt[trgt>minRet] # minRet\n",
        "    #2) get t1 (max holding period)\n",
        "    if t1 is False:t1=pd.Series(pd.NaT,index=tEvents)\n",
        "    #3) form events object, apply stop loss on t1\n",
        "    if side is None:side_,ptSl_=pd.Series(1.,index=trgt.index),[ptSl[0],ptSl[0]]\n",
        "    else:side_,ptSl_=side.loc[trgt.index],ptSl[:2]\n",
        "    events=pd.concat({'t1':t1,'trgt':trgt,'side':side_}, axis=1).dropna(subset=['trgt'])\n",
        "    df0=mpPandasObj(func=applyPtSlOnT1,pdObj=('molecule',events.index), numThreads=numThreads,close=inst['Close'],events=events,ptSl=ptSl_)\n",
        "    events['t1']=df0.dropna(how='all').min(axis=1) # pd.min ignores nan\n",
        "    if side is None:events=events.drop('side',axis=1)\n",
        "    return events\n",
        "\n",
        "\n",
        "\n",
        "def getBins(events,close):\n",
        "   '''\n",
        "   Labeling for side and size\n",
        "   Input:\n",
        "   ` events: a Dataframe\n",
        "         \n",
        "   Output:\n",
        "   ` ret: the return realized at the time of the first touched barrier\n",
        "   ` bin: the label as a function of the sign of the outcome \n",
        "     - Case 1: ('side' not in events): bin in (-1,1) <- label by price action (standard labeling)\n",
        "     - Case 2: ('side' in events): bin in (0,1), i.e. pass or bet <- label by pnl (meta-labeling) \n",
        "   '''\n",
        "    #1) prices aligned with events\n",
        "    events_=events.dropna(subset=['t1'])\n",
        "    px=events_.index.union(events_['t1'].values).drop_duplicates()  \n",
        "    px=close.reindex(px,method='bfill')50 LABELING\n",
        "    #2) create out object\n",
        "    out=pd.DataFrame(index=events_.index)\n",
        "    out['ret']=px.loc[events_['t1'].values].values/px.loc[events_.index]-1\n",
        "    out['bin']=np.sign(out['ret'])  \n",
        "    return out\n",
        "\n",
        "  \n",
        "def dropLabels(events,minPtc=.05):\n",
        "    '''\n",
        "    Apply weights, drop labels with insufficient examples\n",
        "    '''\n",
        "    while True:\n",
        "        df0=events['bin'].value_counts(normalize=True)\n",
        "        if df0.min()>minPct or df0.shape[0]<3:break\n",
        "        print 'dropped label',df0.argmin(),df0.min()\n",
        "        events=events[events['bin']!=df0.argmin()]\n",
        "    return events\n",
        "\n"
      ],
      "metadata": {
        "id": "rI-_XkO1Z2gO"
      },
      "execution_count": null,
      "outputs": []
    }
  ]
}