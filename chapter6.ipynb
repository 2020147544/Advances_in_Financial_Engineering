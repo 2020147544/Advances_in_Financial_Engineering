{
  "nbformat": 4,
  "nbformat_minor": 0,
  "metadata": {
    "colab": {
      "provenance": [],
      "authorship_tag": "ABX9TyPAYP+CjMD5e2FCSAzL8FdW",
      "include_colab_link": true
    },
    "kernelspec": {
      "name": "python3",
      "display_name": "Python 3"
    },
    "language_info": {
      "name": "python"
    }
  },
  "cells": [
    {
      "cell_type": "markdown",
      "metadata": {
        "id": "view-in-github",
        "colab_type": "text"
      },
      "source": [
        "<a href=\"https://colab.research.google.com/github/2020147544/Advances_in_Financial_Engineering/blob/main/chapter6.ipynb\" target=\"_parent\"><img src=\"https://colab.research.google.com/assets/colab-badge.svg\" alt=\"Open In Colab\"/></a>"
      ]
    },
    {
      "cell_type": "markdown",
      "source": [
        "### Ensemble Methods"
      ],
      "metadata": {
        "id": "MEC_pd6gaAf9"
      }
    },
    {
      "cell_type": "code",
      "execution_count": null,
      "metadata": {
        "id": "ga6OoWmkWHwf"
      },
      "outputs": [],
      "source": [
        "import numpy as np\n",
        "import pandas as pd\n",
        "import matplotlib.pyplot as plt\n",
        "# import research as rs     # private module\n",
        "\n",
        "%matplotlib inline"
      ]
    },
    {
      "cell_type": "code",
      "source": [
        "from google.colab import drive\n",
        "drive.mount('/content/drive')"
      ],
      "metadata": {
        "id": "HZ0XsrKVYQtL",
        "outputId": "f875bfad-a392-46ad-e56b-bc44774deee8",
        "colab": {
          "base_uri": "https://localhost:8080/"
        }
      },
      "execution_count": null,
      "outputs": [
        {
          "output_type": "stream",
          "name": "stdout",
          "text": [
            "Mounted at /content/drive\n"
          ]
        }
      ]
    },
    {
      "cell_type": "code",
      "source": [
        "from scipy.special import comb\n",
        "\n",
        "def cls_accuracy(N = 100, p = 1./3, k = 3.):\n",
        "    #N, p, k = 100, 1./3, 3.\n",
        "    p_ = 0\n",
        "\n",
        "    for i in np.arange(0, int(N/k)+1):\n",
        "        p_ += comb(N,i)*p**i*(1-p)**(N-i)\n",
        "    if p > 1-p_ : \n",
        "        print(\"individual learners are considered poor classifier\")\n",
        "    else: \n",
        "        print(\"individual learners are not considered poor classifier\")\n",
        "    print(p, 1-p_)\n",
        "\n",
        "cls_accuracy(N = 10, p = 1./3, k = 3.) # cls = 3, N estimate = 10\n",
        "cls_accuracy(N = 100, p = 1./3, k = 3.) # cls = 3, N estimate = 100\n",
        "cls_accuracy(N = 1001, p = 1./3, k = 3.) # cls = 3, N estimate = 1001"
      ],
      "metadata": {
        "id": "M0gqHkeDWJei",
        "colab": {
          "base_uri": "https://localhost:8080/"
        },
        "outputId": "d3e55133-d4fd-4e78-fb2d-f2ced347a7ef"
      },
      "execution_count": null,
      "outputs": [
        {
          "output_type": "stream",
          "name": "stdout",
          "text": [
            "individual learners are not considered poor classifier\n",
            "0.3333333333333333 0.4407356602143977\n",
            "individual learners are not considered poor classifier\n",
            "0.3333333333333333 0.4811966952738904\n",
            "individual learners are not considered poor classifier\n",
            "0.3333333333333333 0.5029710233411802\n"
          ]
        }
      ]
    },
    {
      "cell_type": "code",
      "source": [
        "#optional comparison with 2 class only\n",
        "\n",
        "cls_accuracy(N = 100, p = 1./2, k = 2.) # cls = 2, N estimate = 100\n",
        "cls_accuracy(N = 1001, p = 1./2, k = 2.) # cls = 2, N estimate = 1001"
      ],
      "metadata": {
        "id": "x8weukwtXyZr",
        "outputId": "880301a9-cd85-4dea-969e-4252c4e433dd",
        "colab": {
          "base_uri": "https://localhost:8080/"
        }
      },
      "execution_count": null,
      "outputs": [
        {
          "output_type": "stream",
          "name": "stdout",
          "text": [
            "individual learners are considered poor classifier\n",
            "0.5 0.46020538130641064\n",
            "individual learners are not considered poor classifier\n",
            "0.5 0.5000000000001502\n"
          ]
        }
      ]
    },
    {
      "cell_type": "markdown",
      "source": [
        "## Exercise 6.3"
      ],
      "metadata": {
        "id": "nDmZFCiqX60n"
      }
    },
    {
      "cell_type": "code",
      "source": [
        "from sklearn.tree import DecisionTreeClassifier\n",
        "from sklearn.ensemble import BaggingClassifier, RandomForestClassifier\n",
        "\n",
        "#from sklearn.datasets import make_classification # create dataset\n",
        "from sklearn.model_selection import train_test_split\n",
        "\n",
        "dollar = pd.read_csv('/content/drive/MyDrive/Kp200F_volume_bars_500.csv', \n",
        "                 sep=',', \n",
        "                 header=0, \n",
        "                 parse_dates = True, \n",
        "                 index_col=['date_time'])\n",
        "\n",
        "# For most part of the func we only use 'close'\n",
        "\n",
        "close = dollar['close'].to_frame()\n",
        "print(dollar)\n",
        "\n",
        "ffd_series = close.apply(np.log).cumsum()\n",
        "ffd_series = rs.fracDiff_FFD(ffd_series, # lack of research module\n",
        "                    d = 1.99999889, \n",
        "                    thres=1e-5\n",
        "                   ).dropna()\n",
        "\n",
        "cs_event = rs.cs_filter(data = ffd_series, limit=(ffd_series.std() * 0.2))  # lack of research module\n",
        "\n",
        "df_mtx = pd.DataFrame(index = cs_event).assign(close = close,\n",
        "                                                ffd_series = ffd_series).drop_duplicates().dropna()\n",
        "df_mtx"
      ],
      "metadata": {
        "id": "qCaYuVeyX4T_",
        "outputId": "9383355e-1d9f-40e7-b636-02cb8d6443c4",
        "colab": {
          "base_uri": "https://localhost:8080/",
          "height": 1000
        }
      },
      "execution_count": null,
      "outputs": [
        {
          "output_type": "stream",
          "name": "stdout",
          "text": [
            "                                     tick_num    open    high     low   close  \\\n",
            "date_time                                                                       \n",
            "2021-01-04 10:00:01.899669272+09:00        81  389.15  389.20  388.65  389.05   \n",
            "2021-01-04 10:00:03.907859958+09:00       217  389.05  389.60  388.95  389.55   \n",
            "2021-01-04 10:00:08.327160032+09:00       357  389.55  389.70  389.40  389.50   \n",
            "2021-01-04 10:00:12.859526697+09:00       486  389.50  389.60  389.25  389.60   \n",
            "2021-01-04 10:00:21.659149379+09:00       624  389.55  389.85  389.55  389.85   \n",
            "...                                       ...     ...     ...     ...     ...   \n",
            "2023-03-10 15:32:50.420869535+09:00  35364256  311.50  311.50  311.40  311.50   \n",
            "2023-03-10 15:33:38.920764336+09:00  35364459  311.50  311.55  311.45  311.55   \n",
            "2023-03-10 15:34:05.836568973+09:00  35364592  311.55  311.65  311.55  311.55   \n",
            "2023-03-10 15:34:29.331336231+09:00  35364660  311.55  311.60  311.45  311.45   \n",
            "2023-03-10 15:34:59.700913544+09:00  35364763  311.50  311.60  311.45  311.50   \n",
            "\n",
            "                                     volume  cum_buy_volume  cum_ticks  \\\n",
            "date_time                                                                \n",
            "2021-01-04 10:00:01.899669272+09:00     500             317         80   \n",
            "2021-01-04 10:00:03.907859958+09:00     500             251        136   \n",
            "2021-01-04 10:00:08.327160032+09:00     500             290        140   \n",
            "2021-01-04 10:00:12.859526697+09:00     500             316        129   \n",
            "2021-01-04 10:00:21.659149379+09:00     500             348        138   \n",
            "...                                     ...             ...        ...   \n",
            "2023-03-10 15:32:50.420869535+09:00     500             307        232   \n",
            "2023-03-10 15:33:38.920764336+09:00     500             294        203   \n",
            "2023-03-10 15:34:05.836568973+09:00     500             233        133   \n",
            "2023-03-10 15:34:29.331336231+09:00     500             250         68   \n",
            "2023-03-10 15:34:59.700913544+09:00     500             227        103   \n",
            "\n",
            "                                     cum_dollar_value  cum_buy_dollar_value  \n",
            "date_time                                                                    \n",
            "2021-01-04 10:00:01.899669272+09:00         194552.70             123357.35  \n",
            "2021-01-04 10:00:03.907859958+09:00         194694.30              97737.40  \n",
            "2021-01-04 10:00:08.327160032+09:00         194772.25             112967.35  \n",
            "2021-01-04 10:00:12.859526697+09:00         194699.15             123053.35  \n",
            "2021-01-04 10:00:21.659149379+09:00         194836.10             135606.60  \n",
            "...                                               ...                   ...  \n",
            "2023-03-10 15:32:50.420869535+09:00         155729.05              95621.30  \n",
            "2023-03-10 15:33:38.920764336+09:00         155755.55              91587.05  \n",
            "2023-03-10 15:34:05.836568973+09:00         155799.70              72606.15  \n",
            "2023-03-10 15:34:29.331336231+09:00         155756.20              77882.30  \n",
            "2023-03-10 15:34:59.700913544+09:00         155761.35              70720.05  \n",
            "\n",
            "[277640 rows x 10 columns]\n"
          ]
        },
        {
          "output_type": "error",
          "ename": "NameError",
          "evalue": "ignored",
          "traceback": [
            "\u001b[0;31m---------------------------------------------------------------------------\u001b[0m",
            "\u001b[0;31mNameError\u001b[0m                                 Traceback (most recent call last)",
            "\u001b[0;32m<ipython-input-21-1bcfa004c22d>\u001b[0m in \u001b[0;36m<cell line: 19>\u001b[0;34m()\u001b[0m\n\u001b[1;32m     17\u001b[0m \u001b[0;34m\u001b[0m\u001b[0m\n\u001b[1;32m     18\u001b[0m \u001b[0mffd_series\u001b[0m \u001b[0;34m=\u001b[0m \u001b[0mclose\u001b[0m\u001b[0;34m.\u001b[0m\u001b[0mapply\u001b[0m\u001b[0;34m(\u001b[0m\u001b[0mnp\u001b[0m\u001b[0;34m.\u001b[0m\u001b[0mlog\u001b[0m\u001b[0;34m)\u001b[0m\u001b[0;34m.\u001b[0m\u001b[0mcumsum\u001b[0m\u001b[0;34m(\u001b[0m\u001b[0;34m)\u001b[0m\u001b[0;34m\u001b[0m\u001b[0;34m\u001b[0m\u001b[0m\n\u001b[0;32m---> 19\u001b[0;31m ffd_series = rs.fracDiff_FFD(ffd_series, # lack of research module\n\u001b[0m\u001b[1;32m     20\u001b[0m                     \u001b[0md\u001b[0m \u001b[0;34m=\u001b[0m \u001b[0;36m1.99999889\u001b[0m\u001b[0;34m,\u001b[0m\u001b[0;34m\u001b[0m\u001b[0;34m\u001b[0m\u001b[0m\n\u001b[1;32m     21\u001b[0m                     \u001b[0mthres\u001b[0m\u001b[0;34m=\u001b[0m\u001b[0;36m1e-5\u001b[0m\u001b[0;34m\u001b[0m\u001b[0;34m\u001b[0m\u001b[0m\n",
            "\u001b[0;31mNameError\u001b[0m: name 'rs' is not defined"
          ]
        }
      ]
    },
    {
      "cell_type": "code",
      "source": [
        "df_mtx['volatility'] = rs.vol(df_mtx.close, span0 = 50) #one of our features, since we do not have a side\n",
        "\n",
        "df_mtx.dropna(inplace = True)\n",
        "\n",
        "vb = rs.vert_barrier(data = df_mtx.close, events = cs_event, period = 'days', freq = 5)\n",
        "\n",
        "# triple barrier events based on filter while data is also based on filtered index\n",
        "tb = rs.tri_barrier(data = df_mtx.close, \n",
        "                    events = cs_event, \n",
        "                    trgt = df_mtx['volatility'], \n",
        "                    min_req = 0.0002, \n",
        "                    num_threads = 3, \n",
        "                    ptSl= [2,2], #2x barriers\n",
        "                    t1 = vb, \n",
        "                    side = None)\n",
        "\n",
        "mlabel = rs.meta_label(data = df_mtx.close, \n",
        "                       events = tb, \n",
        "                       drop = 0.05) # because we do not have side, we need to drop rare labels"
      ],
      "metadata": {
        "id": "9YbCuYw2YAtI"
      },
      "execution_count": null,
      "outputs": []
    },
    {
      "cell_type": "code",
      "source": [
        "mlabel['bin'].value_counts() #834"
      ],
      "metadata": {
        "id": "dfVsdA7UZery",
        "outputId": "2fdab285-68b4-4692-b291-155820766dea",
        "colab": {
          "base_uri": "https://localhost:8080/",
          "height": 175
        }
      },
      "execution_count": null,
      "outputs": [
        {
          "output_type": "error",
          "ename": "NameError",
          "evalue": "ignored",
          "traceback": [
            "\u001b[0;31m---------------------------------------------------------------------------\u001b[0m",
            "\u001b[0;31mNameError\u001b[0m                                 Traceback (most recent call last)",
            "\u001b[0;32m<ipython-input-12-551e2b753ecd>\u001b[0m in \u001b[0;36m<cell line: 1>\u001b[0;34m()\u001b[0m\n\u001b[0;32m----> 1\u001b[0;31m \u001b[0mmlabel\u001b[0m\u001b[0;34m[\u001b[0m\u001b[0;34m'bin'\u001b[0m\u001b[0;34m]\u001b[0m\u001b[0;34m.\u001b[0m\u001b[0mvalue_counts\u001b[0m\u001b[0;34m(\u001b[0m\u001b[0;34m)\u001b[0m \u001b[0;31m#834\u001b[0m\u001b[0;34m\u001b[0m\u001b[0;34m\u001b[0m\u001b[0m\n\u001b[0m",
            "\u001b[0;31mNameError\u001b[0m: name 'mlabel' is not defined"
          ]
        }
      ]
    },
    {
      "cell_type": "code",
      "source": [
        "X = df_mtx.reindex(mlabel.index)\n",
        "Z = tb.reindex(mlabel.index)\n",
        "y = mlabel['bin']\n",
        "\n",
        "idx_Mat0 = rs.mp_idx_matrix(data = X.close, events = Z)\n",
        "\n",
        "avgU = rs.av_unique(idx_Mat0).mean() #get ave uniqueness\n",
        "print(\"Ave Uniqueness of Observations\", avgU)"
      ],
      "metadata": {
        "id": "R21Bu9KwZh7h",
        "outputId": "19f10b58-efa2-4c15-cbd0-3cf137941dff",
        "colab": {
          "base_uri": "https://localhost:8080/",
          "height": 249
        }
      },
      "execution_count": null,
      "outputs": [
        {
          "output_type": "error",
          "ename": "NameError",
          "evalue": "ignored",
          "traceback": [
            "\u001b[0;31m---------------------------------------------------------------------------\u001b[0m",
            "\u001b[0;31mNameError\u001b[0m                                 Traceback (most recent call last)",
            "\u001b[0;32m<ipython-input-14-53bf763ec747>\u001b[0m in \u001b[0;36m<cell line: 1>\u001b[0;34m()\u001b[0m\n\u001b[0;32m----> 1\u001b[0;31m \u001b[0mX\u001b[0m \u001b[0;34m=\u001b[0m \u001b[0mdf_mtx\u001b[0m\u001b[0;34m.\u001b[0m\u001b[0mreindex\u001b[0m\u001b[0;34m(\u001b[0m\u001b[0mmlabel\u001b[0m\u001b[0;34m.\u001b[0m\u001b[0mindex\u001b[0m\u001b[0;34m)\u001b[0m\u001b[0;34m\u001b[0m\u001b[0;34m\u001b[0m\u001b[0m\n\u001b[0m\u001b[1;32m      2\u001b[0m \u001b[0mZ\u001b[0m \u001b[0;34m=\u001b[0m \u001b[0mtb\u001b[0m\u001b[0;34m.\u001b[0m\u001b[0mreindex\u001b[0m\u001b[0;34m(\u001b[0m\u001b[0mmlabel\u001b[0m\u001b[0;34m.\u001b[0m\u001b[0mindex\u001b[0m\u001b[0;34m)\u001b[0m\u001b[0;34m\u001b[0m\u001b[0;34m\u001b[0m\u001b[0m\n\u001b[1;32m      3\u001b[0m \u001b[0my\u001b[0m \u001b[0;34m=\u001b[0m \u001b[0mmlabel\u001b[0m\u001b[0;34m[\u001b[0m\u001b[0;34m'bin'\u001b[0m\u001b[0;34m]\u001b[0m\u001b[0;34m\u001b[0m\u001b[0;34m\u001b[0m\u001b[0m\n\u001b[1;32m      4\u001b[0m \u001b[0;34m\u001b[0m\u001b[0m\n\u001b[1;32m      5\u001b[0m \u001b[0midx_Mat0\u001b[0m \u001b[0;34m=\u001b[0m \u001b[0mrs\u001b[0m\u001b[0;34m.\u001b[0m\u001b[0mmp_idx_matrix\u001b[0m\u001b[0;34m(\u001b[0m\u001b[0mdata\u001b[0m \u001b[0;34m=\u001b[0m \u001b[0mX\u001b[0m\u001b[0;34m.\u001b[0m\u001b[0mclose\u001b[0m\u001b[0;34m,\u001b[0m \u001b[0mevents\u001b[0m \u001b[0;34m=\u001b[0m \u001b[0mZ\u001b[0m\u001b[0;34m)\u001b[0m\u001b[0;34m\u001b[0m\u001b[0;34m\u001b[0m\u001b[0m\n",
            "\u001b[0;31mNameError\u001b[0m: name 'df_mtx' is not defined"
          ]
        }
      ]
    },
    {
      "cell_type": "code",
      "source": [
        "# Split data\n",
        "X_train, X_test, y_train, y_test = train_test_split(X, y, test_size=0.3, random_state=42, shuffle=True, stratify=None)\n",
        "\n",
        "# Benchmarks\n",
        "rf_clf0 = RandomForestClassifier(n_estimators = 1000, \n",
        "                                bootstrap=True, \n",
        "                                n_jobs=1,\n",
        "                                random_state=42,\n",
        "                                oob_score=True)\n",
        "\n",
        "base_estimate0 = DecisionTreeClassifier()\n",
        "\n",
        "\n",
        "bag_clf0 = BaggingClassifier(base_estimator = base_estimate0,\n",
        "                                n_estimators = 1000,\n",
        "                                bootstrap=True, \n",
        "                                n_jobs=1, \n",
        "                                random_state=42,\n",
        "                                oob_score=True)\n",
        "\n",
        "\n",
        "rf_clf0.fit(X_train, y_train)\n",
        "bag_clf0.fit(X_train, y_train)\n",
        "\n",
        "print('Default rf Out-of-bag score: {}\\n'.format(rf_clf0.oob_score_))\n",
        "print('Default dt Out-of-bag score: {}\\n'.format(bag_clf0.oob_score_))"
      ],
      "metadata": {
        "id": "dIcKUbdAZsEb",
        "outputId": "9f9e4277-ba34-408f-dc3e-e259b164ea26",
        "colab": {
          "base_uri": "https://localhost:8080/",
          "height": 249
        }
      },
      "execution_count": null,
      "outputs": [
        {
          "output_type": "error",
          "ename": "NameError",
          "evalue": "ignored",
          "traceback": [
            "\u001b[0;31m---------------------------------------------------------------------------\u001b[0m",
            "\u001b[0;31mNameError\u001b[0m                                 Traceback (most recent call last)",
            "\u001b[0;32m<ipython-input-15-aa4cf543b3c2>\u001b[0m in \u001b[0;36m<cell line: 2>\u001b[0;34m()\u001b[0m\n\u001b[1;32m      1\u001b[0m \u001b[0;31m# Split data\u001b[0m\u001b[0;34m\u001b[0m\u001b[0;34m\u001b[0m\u001b[0m\n\u001b[0;32m----> 2\u001b[0;31m \u001b[0mX_train\u001b[0m\u001b[0;34m,\u001b[0m \u001b[0mX_test\u001b[0m\u001b[0;34m,\u001b[0m \u001b[0my_train\u001b[0m\u001b[0;34m,\u001b[0m \u001b[0my_test\u001b[0m \u001b[0;34m=\u001b[0m \u001b[0mtrain_test_split\u001b[0m\u001b[0;34m(\u001b[0m\u001b[0mX\u001b[0m\u001b[0;34m,\u001b[0m \u001b[0my\u001b[0m\u001b[0;34m,\u001b[0m \u001b[0mtest_size\u001b[0m\u001b[0;34m=\u001b[0m\u001b[0;36m0.3\u001b[0m\u001b[0;34m,\u001b[0m \u001b[0mrandom_state\u001b[0m\u001b[0;34m=\u001b[0m\u001b[0;36m42\u001b[0m\u001b[0;34m,\u001b[0m \u001b[0mshuffle\u001b[0m\u001b[0;34m=\u001b[0m\u001b[0;32mTrue\u001b[0m\u001b[0;34m,\u001b[0m \u001b[0mstratify\u001b[0m\u001b[0;34m=\u001b[0m\u001b[0;32mNone\u001b[0m\u001b[0;34m)\u001b[0m\u001b[0;34m\u001b[0m\u001b[0;34m\u001b[0m\u001b[0m\n\u001b[0m\u001b[1;32m      3\u001b[0m \u001b[0;34m\u001b[0m\u001b[0m\n\u001b[1;32m      4\u001b[0m \u001b[0;31m# Benchmarks\u001b[0m\u001b[0;34m\u001b[0m\u001b[0;34m\u001b[0m\u001b[0m\n\u001b[1;32m      5\u001b[0m rf_clf0 = RandomForestClassifier(n_estimators = 1000, \n",
            "\u001b[0;31mNameError\u001b[0m: name 'X' is not defined"
          ]
        }
      ]
    },
    {
      "cell_type": "code",
      "source": [
        "#based on book recommendation\n",
        "rf_clf = RandomForestClassifier(n_estimators = 1000,\n",
        "                                criterion = \"entropy\",\n",
        "                                max_samples=avgU, #note averge unique used\n",
        "                                bootstrap=True, \n",
        "                                n_jobs=1,\n",
        "                                random_state=42,\n",
        "                                class_weight=\"balanced_subsample\",\n",
        "                                oob_score=True)\n",
        "\n",
        "clf = DecisionTreeClassifier(criterion = \"entropy\", \n",
        "                             max_features=\"auto\", \n",
        "                             class_weight=\"balanced\")\n",
        "\n",
        "bag_clf = BaggingClassifier(base_estimator = clf,\n",
        "                            n_estimators = 1000, \n",
        "                            max_samples=avgU, #note averge unique used\n",
        "                            bootstrap=True, \n",
        "                            n_jobs=1,\n",
        "                            random_state=42,\n",
        "                            oob_score=True)\n",
        "\n",
        "rf_clf.fit(X_train, y_train)\n",
        "bag_clf.fit(X_train, y_train)\n",
        "\n",
        "print('rf_clf rf Out-of-bag score: {}\\n'.format(rf_clf.oob_score_))\n",
        "print('bag_clf Out-of-bag score: {}\\n'.format(bag_clf.oob_score_))"
      ],
      "metadata": {
        "id": "ThbSb3hMZuPb",
        "outputId": "0e770338-95c4-41c4-c096-54837bc4a8c5",
        "colab": {
          "base_uri": "https://localhost:8080/",
          "height": 249
        }
      },
      "execution_count": null,
      "outputs": [
        {
          "output_type": "error",
          "ename": "NameError",
          "evalue": "ignored",
          "traceback": [
            "\u001b[0;31m---------------------------------------------------------------------------\u001b[0m",
            "\u001b[0;31mNameError\u001b[0m                                 Traceback (most recent call last)",
            "\u001b[0;32m<ipython-input-16-35f82e6d423a>\u001b[0m in \u001b[0;36m<cell line: 2>\u001b[0;34m()\u001b[0m\n\u001b[1;32m      2\u001b[0m rf_clf = RandomForestClassifier(n_estimators = 1000,\n\u001b[1;32m      3\u001b[0m                                 \u001b[0mcriterion\u001b[0m \u001b[0;34m=\u001b[0m \u001b[0;34m\"entropy\"\u001b[0m\u001b[0;34m,\u001b[0m\u001b[0;34m\u001b[0m\u001b[0;34m\u001b[0m\u001b[0m\n\u001b[0;32m----> 4\u001b[0;31m                                 \u001b[0mmax_samples\u001b[0m\u001b[0;34m=\u001b[0m\u001b[0mavgU\u001b[0m\u001b[0;34m,\u001b[0m \u001b[0;31m#note averge unique used\u001b[0m\u001b[0;34m\u001b[0m\u001b[0;34m\u001b[0m\u001b[0m\n\u001b[0m\u001b[1;32m      5\u001b[0m                                 \u001b[0mbootstrap\u001b[0m\u001b[0;34m=\u001b[0m\u001b[0;32mTrue\u001b[0m\u001b[0;34m,\u001b[0m\u001b[0;34m\u001b[0m\u001b[0;34m\u001b[0m\u001b[0m\n\u001b[1;32m      6\u001b[0m                                 \u001b[0mn_jobs\u001b[0m\u001b[0;34m=\u001b[0m\u001b[0;36m1\u001b[0m\u001b[0;34m,\u001b[0m\u001b[0;34m\u001b[0m\u001b[0;34m\u001b[0m\u001b[0m\n",
            "\u001b[0;31mNameError\u001b[0m: name 'avgU' is not defined"
          ]
        }
      ]
    },
    {
      "cell_type": "code",
      "source": [
        "#based on book recommendation\n",
        "rf_clf1 = RandomForestClassifier(n_estimators = 1000,\n",
        "                                criterion = \"entropy\",\n",
        "                                bootstrap=True, \n",
        "                                n_jobs=1,\n",
        "                                random_state=42,\n",
        "                                class_weight=\"balanced_subsample\",\n",
        "                                oob_score=True)\n",
        "\n",
        "clf1 = DecisionTreeClassifier(criterion = \"entropy\",\n",
        "                             splitter=\"random\", #added random as splitter, which was in rf but not in dt\n",
        "                             max_features=None, \n",
        "                             class_weight=\"balanced\")\n",
        "\n",
        "bag_clf1 = BaggingClassifier(base_estimator = clf1,\n",
        "                            n_estimators = 850, \n",
        "                            max_samples=avgU, #note averge unique used\n",
        "                            bootstrap=True, \n",
        "                            n_jobs=1,\n",
        "                            random_state=42,\n",
        "                            oob_score=True)\n",
        "\n",
        "rf_clf1.fit(X_train, y_train)\n",
        "bag_clf1.fit(X_train, y_train)\n",
        "\n",
        "print('rf_clf rf Out-of-bag score: {}\\n'.format(rf_clf1.oob_score_))\n",
        "print('bag_clf Out-of-bag score: {}\\n'.format(bag_clf1.oob_score_))"
      ],
      "metadata": {
        "id": "exoWR7hRZwVd",
        "outputId": "fdc829b5-98b8-41e0-a8d0-004a3e121382",
        "colab": {
          "base_uri": "https://localhost:8080/",
          "height": 249
        }
      },
      "execution_count": null,
      "outputs": [
        {
          "output_type": "error",
          "ename": "NameError",
          "evalue": "ignored",
          "traceback": [
            "\u001b[0;31m---------------------------------------------------------------------------\u001b[0m",
            "\u001b[0;31mNameError\u001b[0m                                 Traceback (most recent call last)",
            "\u001b[0;32m<ipython-input-17-ad5633468122>\u001b[0m in \u001b[0;36m<cell line: 15>\u001b[0;34m()\u001b[0m\n\u001b[1;32m     15\u001b[0m bag_clf1 = BaggingClassifier(base_estimator = clf1,\n\u001b[1;32m     16\u001b[0m                             \u001b[0mn_estimators\u001b[0m \u001b[0;34m=\u001b[0m \u001b[0;36m850\u001b[0m\u001b[0;34m,\u001b[0m\u001b[0;34m\u001b[0m\u001b[0;34m\u001b[0m\u001b[0m\n\u001b[0;32m---> 17\u001b[0;31m                             \u001b[0mmax_samples\u001b[0m\u001b[0;34m=\u001b[0m\u001b[0mavgU\u001b[0m\u001b[0;34m,\u001b[0m \u001b[0;31m#note averge unique used\u001b[0m\u001b[0;34m\u001b[0m\u001b[0;34m\u001b[0m\u001b[0m\n\u001b[0m\u001b[1;32m     18\u001b[0m                             \u001b[0mbootstrap\u001b[0m\u001b[0;34m=\u001b[0m\u001b[0;32mTrue\u001b[0m\u001b[0;34m,\u001b[0m\u001b[0;34m\u001b[0m\u001b[0;34m\u001b[0m\u001b[0m\n\u001b[1;32m     19\u001b[0m                             \u001b[0mn_jobs\u001b[0m\u001b[0;34m=\u001b[0m\u001b[0;36m1\u001b[0m\u001b[0;34m,\u001b[0m\u001b[0;34m\u001b[0m\u001b[0;34m\u001b[0m\u001b[0m\n",
            "\u001b[0;31mNameError\u001b[0m: name 'avgU' is not defined"
          ]
        }
      ]
    },
    {
      "cell_type": "code",
      "source": [
        "# if N is too small\n",
        "cls_accuracy(N = 1, p = 1./3, k = 3.)\n",
        "cls_accuracy(N = 1, p = 1./5, k = 5.)\n",
        "cls_accuracy(N = 1, p = 1./10, k = 10.)"
      ],
      "metadata": {
        "id": "pKAahKMOZzkx",
        "outputId": "310fa5f4-0669-4b50-eccb-aedb3bb9007c",
        "colab": {
          "base_uri": "https://localhost:8080/"
        }
      },
      "execution_count": null,
      "outputs": [
        {
          "output_type": "stream",
          "name": "stdout",
          "text": [
            "individual learners are considered poor classifier\n",
            "0.3333333333333333 0.33333333333333326\n",
            "individual learners are considered poor classifier\n",
            "0.2 0.19999999999999996\n",
            "individual learners are considered poor classifier\n",
            "0.1 0.09999999999999998\n"
          ]
        }
      ]
    },
    {
      "cell_type": "code",
      "source": [
        "# if N is too large\n",
        "cls_accuracy(N = 1200, p = 1./3, k = 3.)\n",
        "cls_accuracy(N = 1200, p = 1./5, k = 5.)\n",
        "cls_accuracy(N = 1200, p = 1./10, k = 10.)"
      ],
      "metadata": {
        "id": "yenlYMNXZ1Rh",
        "outputId": "e439aa82-67a8-4803-d688-2f9717037dff",
        "colab": {
          "base_uri": "https://localhost:8080/"
        }
      },
      "execution_count": null,
      "outputs": [
        {
          "output_type": "stream",
          "name": "stdout",
          "text": [
            "individual learners are considered poor classifier\n",
            "0.3333333333333333 -inf\n",
            "individual learners are not considered poor classifier\n",
            "0.2 0.48273446631083894\n",
            "individual learners are not considered poor classifier\n",
            "0.1 0.475713305287882\n"
          ]
        }
      ]
    },
    {
      "cell_type": "code",
      "source": [
        "from sklearn.model_selection import StratifiedKFold\n",
        "from sklearn.metrics import accuracy_score\n",
        "\n",
        "accuracy_array = np.zeros(5)\n",
        "\n",
        "skf = StratifiedKFold(n_splits=5, \n",
        "                      shuffle=True, #shuffle = True\n",
        "                      random_state = 42)\n",
        "\n",
        "i = 0\n",
        "for train_index, test_index in skf.split(X, y):\n",
        "    X_train, X_test = X.iloc[train_index], X.iloc[test_index]\n",
        "    y_train, y_test = y.iloc[train_index], y.iloc[test_index]\n",
        "\n",
        "    rf_clf0.fit(X_train, y_train.values.ravel()) #use the original rf cls\n",
        "    y_pred_rf = rf_clf0.predict_proba(X_test)[:, 1] #True positive only\n",
        "    y_pred = rf_clf0.predict(X_test)\n",
        "    accuracy_array[i] = accuracy_score(y_test, y_pred)\n",
        "    i += 1\n",
        "\n",
        "print(\"Mean Strat KFold accuracy with shuffle: {:.8f}\".format(np.mean(accuracy_array)))"
      ],
      "metadata": {
        "id": "esKAbt8pZ2yb",
        "outputId": "ea61f645-a551-4f31-c493-8678e8db71c0",
        "colab": {
          "base_uri": "https://localhost:8080/",
          "height": 249
        }
      },
      "execution_count": null,
      "outputs": [
        {
          "output_type": "error",
          "ename": "NameError",
          "evalue": "ignored",
          "traceback": [
            "\u001b[0;31m---------------------------------------------------------------------------\u001b[0m",
            "\u001b[0;31mNameError\u001b[0m                                 Traceback (most recent call last)",
            "\u001b[0;32m<ipython-input-20-2aa8bec0e664>\u001b[0m in \u001b[0;36m<cell line: 11>\u001b[0;34m()\u001b[0m\n\u001b[1;32m      9\u001b[0m \u001b[0;34m\u001b[0m\u001b[0m\n\u001b[1;32m     10\u001b[0m \u001b[0mi\u001b[0m \u001b[0;34m=\u001b[0m \u001b[0;36m0\u001b[0m\u001b[0;34m\u001b[0m\u001b[0;34m\u001b[0m\u001b[0m\n\u001b[0;32m---> 11\u001b[0;31m \u001b[0;32mfor\u001b[0m \u001b[0mtrain_index\u001b[0m\u001b[0;34m,\u001b[0m \u001b[0mtest_index\u001b[0m \u001b[0;32min\u001b[0m \u001b[0mskf\u001b[0m\u001b[0;34m.\u001b[0m\u001b[0msplit\u001b[0m\u001b[0;34m(\u001b[0m\u001b[0mX\u001b[0m\u001b[0;34m,\u001b[0m \u001b[0my\u001b[0m\u001b[0;34m)\u001b[0m\u001b[0;34m:\u001b[0m\u001b[0;34m\u001b[0m\u001b[0;34m\u001b[0m\u001b[0m\n\u001b[0m\u001b[1;32m     12\u001b[0m     \u001b[0mX_train\u001b[0m\u001b[0;34m,\u001b[0m \u001b[0mX_test\u001b[0m \u001b[0;34m=\u001b[0m \u001b[0mX\u001b[0m\u001b[0;34m.\u001b[0m\u001b[0miloc\u001b[0m\u001b[0;34m[\u001b[0m\u001b[0mtrain_index\u001b[0m\u001b[0;34m]\u001b[0m\u001b[0;34m,\u001b[0m \u001b[0mX\u001b[0m\u001b[0;34m.\u001b[0m\u001b[0miloc\u001b[0m\u001b[0;34m[\u001b[0m\u001b[0mtest_index\u001b[0m\u001b[0;34m]\u001b[0m\u001b[0;34m\u001b[0m\u001b[0;34m\u001b[0m\u001b[0m\n\u001b[1;32m     13\u001b[0m     \u001b[0my_train\u001b[0m\u001b[0;34m,\u001b[0m \u001b[0my_test\u001b[0m \u001b[0;34m=\u001b[0m \u001b[0my\u001b[0m\u001b[0;34m.\u001b[0m\u001b[0miloc\u001b[0m\u001b[0;34m[\u001b[0m\u001b[0mtrain_index\u001b[0m\u001b[0;34m]\u001b[0m\u001b[0;34m,\u001b[0m \u001b[0my\u001b[0m\u001b[0;34m.\u001b[0m\u001b[0miloc\u001b[0m\u001b[0;34m[\u001b[0m\u001b[0mtest_index\u001b[0m\u001b[0;34m]\u001b[0m\u001b[0;34m\u001b[0m\u001b[0;34m\u001b[0m\u001b[0m\n",
            "\u001b[0;31mNameError\u001b[0m: name 'X' is not defined"
          ]
        }
      ]
    },
    {
      "cell_type": "code",
      "source": [],
      "metadata": {
        "id": "YSm6C_AGZ5jG"
      },
      "execution_count": null,
      "outputs": []
    }
  ]
}