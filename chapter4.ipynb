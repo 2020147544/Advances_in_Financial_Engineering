{
  "nbformat": 4,
  "nbformat_minor": 0,
  "metadata": {
    "colab": {
      "provenance": [],
      "authorship_tag": "ABX9TyNlA6AQobXHmUjWC9qHZbjY",
      "include_colab_link": true
    },
    "kernelspec": {
      "name": "python3",
      "display_name": "Python 3"
    },
    "language_info": {
      "name": "python"
    }
  },
  "cells": [
    {
      "cell_type": "markdown",
      "metadata": {
        "id": "view-in-github",
        "colab_type": "text"
      },
      "source": [
        "<a href=\"https://colab.research.google.com/github/2020147544/Advances_in_Financial_Engineering/blob/main/chapter4.ipynb\" target=\"_parent\"><img src=\"https://colab.research.google.com/assets/colab-badge.svg\" alt=\"Open In Colab\"/></a>"
      ]
    },
    {
      "cell_type": "markdown",
      "source": [
        "# Sample Weights"
      ],
      "metadata": {
        "id": "yUxWDMjsoUd-"
      }
    },
    {
      "cell_type": "code",
      "source": [
        "import numpy as np\n",
        "import pandas as pd\n",
        "import matplotlib.pyplot as plt\n",
        "\n",
        "%matplotlib inline"
      ],
      "metadata": {
        "id": "GlwHGR2Xo_M-"
      },
      "execution_count": null,
      "outputs": []
    },
    {
      "cell_type": "code",
      "execution_count": null,
      "metadata": {
        "id": "FWe-z9O0oSlu"
      },
      "outputs": [],
      "source": [
        "def mpNumCoEvents(closeIdx,t1,molecule):\n",
        "    '''\n",
        "    Compute the number of concurrent events per bar.\n",
        "    \n",
        "    Input:\n",
        "    ` molecule[0]: the date of the first event on which the weight will be computed\n",
        "    ` molecule[-1]: the date of the last event on which the weight will be computed\n",
        "    Any event that starts before t1[molecule].max() impacts the count.\n",
        "    '''\n",
        "    #1) find events that span the period [molecule[0],molecule[-1]]\n",
        "    t1=t1.fillna(closeIdx[-1]) # unclosed events still must impact other weights\n",
        "    t1=t1[t1>=molecule[0]] # events that end at or after molecule[0]\n",
        "    t1=t1.loc[:t1[molecule].max()] # events that start at or before t1[molecule].max()\n",
        "    #2) count events spanning a bar\n",
        "    iloc=closeIdx.searchsorted(np.array([t1.index[0],t1.max()]))\n",
        "    count=pd.Series(0,index=closeIdx[iloc[0]:iloc[1]+1])\n",
        "    for tIn,tOut in t1.iteritems():count.loc[tIn:tOut]+=1.\n",
        "    return count.loc[molecule[0]:t1[molecule].max()]\n",
        "\n",
        "\n",
        "def mpSampleTW(t1,numCoEvents,molecule):\n",
        "    # Derive average uniqueness over the event's lifespan\n",
        "    wght=pd.Series(index=molecule)\n",
        "    for tIn,tOut in t1.loc[wght.index].iteritems():\n",
        "    wght.loc[tIn]=(1./numCoEvents.loc[tIn:tOut]).mean()\n",
        "    return wght\n",
        "\n",
        "\n",
        "def getIndMatrix(barIx,t1):\n",
        "    '''\n",
        "    Get indicator matrix\n",
        "\n",
        "    Input:\n",
        "    ` barIx: the index of bars\n",
        "    ` t1: a pd Series defined by\n",
        "      - an index containing the time at which the feature are observed\n",
        "      - a values array containing the time at which the label is determined\n",
        "\n",
        "    Output: a binary matrix indicating what bars influence the label for each observation\n",
        "    '''\n",
        "    indM=pd.DataFrame(0,index=barIx,columns=range(t1.shape[0]))\n",
        "    for i,(t0,t1) in enumerate(t1.iteritems()):indM.loc[t0:t1,i]=1.\n",
        "    return indM\n",
        "\n",
        "\n",
        "\n",
        "def getAvgUniqueness(indM):\n",
        "    # Average uniqueness from indicator matrix\n",
        "     c=indM.sum(axis=1) # concurrency\n",
        "    u=indM.div(c,axis=0) # uniqueness\n",
        "    avgU=u[u>0].mean() # average uniqueness\n",
        "    return avgU\n",
        "\n",
        "\n",
        "def seqBootstrap(indM,sLength=None):\n",
        "    '''\n",
        "    Generate a sample via sequential bootstrap\n",
        "    \n",
        "    Input:\n",
        "    ` indM\n",
        "    ` sLength: an optional sample length with a default value of as many draws as rows in indM\n",
        "\n",
        "    Output: the index of the features sampled by sequential bootstrap \n",
        "    '''\n",
        "    if sLength is None:sLength=indM.shape[1]  \n",
        "    phi=[]\n",
        "    while len(phi)<sLength:\n",
        "      avgU=pd.Series()\n",
        "      for i in indM:\n",
        "          indM_=indM[phi+[i]] # reduce indM\n",
        "          avgU.loc[i]=getAvgUniqueness(indM_).iloc[-1]\n",
        "      prob=avgU/avgU.sum() # draw prob\n",
        "      phi+=[np.random.choice(indM.columns,p=prob)]\n",
        "    return phi\n",
        "\n",
        "\n",
        "\n",
        "def mpSampleW(t1,numCoEvents,close,molecule):\n",
        "    # Derive sample weight by return attribution\n",
        "    ret=np.log(close).diff() # log-returns, so that they are additive\n",
        "    wght=pd.Series(index=molecule)\n",
        "    for tIn,tOut in t1.loc[wght.index].iteritems():\n",
        "        wght.loc[tIn]=(ret.loc[tIn:tOut]/numCoEvents.loc[tIn:tOut]).sum()\n",
        "    return wght.abs()\n",
        "\n",
        "\n",
        "\n",
        "\n",
        "def getTimeDecay(tW,clfLastW=1.):\n",
        "    # apply piecewise-linear decay to observed uniqueness (tW)\n",
        "    # newest observation gets weight=1, oldest observation gets weight=clfLastW\n",
        "    clfW=tW.sort_index().cumsum()\n",
        "    if clfLastW>=0:slope=(1.-clfLastW)/clfW.iloc[-1]\n",
        "    else:slope=1./((clfLastW+1)*clfW.iloc[-1])\n",
        "    const=1.-slope*clfW.iloc[-1]\n",
        "    clfW=const+slope*clfW\n",
        "    clfW[clfW<0]=0\n",
        "    print const,slope\n",
        "    return clfW"
      ]
    }
  ]
}